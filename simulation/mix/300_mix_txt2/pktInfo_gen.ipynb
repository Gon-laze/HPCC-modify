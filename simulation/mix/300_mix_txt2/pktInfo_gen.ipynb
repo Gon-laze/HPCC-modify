{
 "cells": [
  {
   "cell_type": "code",
   "execution_count": 1,
   "id": "2cb9f3ec",
   "metadata": {},
   "outputs": [],
   "source": [
    "import random\n",
    "import string"
   ]
  },
  {
   "cell_type": "code",
   "execution_count": 2,
   "id": "97b69d55",
   "metadata": {},
   "outputs": [],
   "source": [
    "#tmpTest\n",
    "# 生成对应流的flow.txt\n",
    "flowf = open(\"flow.txt\", \"w\", encoding=\"utf-8\")\n",
    "\n",
    "\n",
    "small_flow_num = 45\n",
    "mid_flow_num = 130\n",
    "big_flow_num = 120\n",
    "\n",
    "topoNode = 5\n",
    "switchNode = 1\n",
    "\n",
    "flowNum = small_flow_num+mid_flow_num+big_flow_num\n",
    "\n",
    "flowf.write(str(flowNum)+\"\\n\")\n",
    "\n",
    "\n",
    "\n",
    "# 0: src; others: des\n",
    "for i in range(0, flowNum):\n",
    "#     if (i<20):\n",
    "#         f = open(\"../CPinfo_\"+str(i)+\".txt\", \"r\", encoding=\"utf-8\")\n",
    "#     elif (i<40):\n",
    "#         f = open(\"../big-small-txt3/64KB_\"+str(i-20)+\".txt\", \"r\", encoding=\"utf-8\")\n",
    "#     else:\n",
    "#         f = open(\"../big-small-txt3/1MB_\"+str(i-40)+\".txt\", \"r\", encoding=\"utf-8\")\n",
    "    if (i<small_flow_num):    \n",
    "        f = open(\"high/high_\"+str(i)+\".txt\", \"r\", encoding=\"utf-8\")\n",
    "    elif (i<(small_flow_num+mid_flow_num)):\n",
    "        f = open(\"middle/middle_\"+str(i-small_flow_num)+\".txt\", \"r\", encoding=\"utf-8\")\n",
    "    else:\n",
    "        f = open(\"low/low_\"+str(i-(small_flow_num+mid_flow_num))+\".txt\", \"r\", encoding=\"utf-8\")\n",
    "    line = f.readline().split('\\n')\n",
    "    # 还没试验过换端口和优先级，可以后续试试\n",
    "    flowf.write(str(i%(topoNode-1-switchNode)+1)+\" 4 3 100 \"+line[0]+\" 2\\n\")\n",
    "    f.close()\n",
    "flowf.close()"
   ]
  },
  {
   "cell_type": "code",
   "execution_count": null,
   "id": "cefc11a4",
   "metadata": {},
   "outputs": [],
   "source": []
  }
 ],
 "metadata": {
  "kernelspec": {
   "display_name": "Python 3 (ipykernel)",
   "language": "python",
   "name": "python3"
  },
  "language_info": {
   "codemirror_mode": {
    "name": "ipython",
    "version": 3
   },
   "file_extension": ".py",
   "mimetype": "text/x-python",
   "name": "python",
   "nbconvert_exporter": "python",
   "pygments_lexer": "ipython3",
   "version": "3.11.4"
  }
 },
 "nbformat": 4,
 "nbformat_minor": 5
}
