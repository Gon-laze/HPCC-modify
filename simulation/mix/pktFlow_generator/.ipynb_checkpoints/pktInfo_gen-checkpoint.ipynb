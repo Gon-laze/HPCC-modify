{
 "cells": [
  {
   "cell_type": "code",
   "execution_count": 1,
   "id": "2cb9f3ec",
   "metadata": {},
   "outputs": [],
   "source": [
    "import random\n",
    "import string"
   ]
  },
  {
   "cell_type": "code",
   "execution_count": 2,
   "id": "0f6470f5",
   "metadata": {},
   "outputs": [],
   "source": [
    "flowNum = 100\n",
    "flowSizeType = [8*1024]\n",
    "topoNode = 5\n",
    "switchNode = 1"
   ]
  },
  {
   "cell_type": "code",
   "execution_count": 3,
   "id": "9f7e9add",
   "metadata": {},
   "outputs": [],
   "source": [
    "for i in range(0, flowNum):\n",
    "    pktNum = random.randint(200, 50000)\n",
    "    timeCost = random.randint(10, 900)\n",
    "    flowSizeType_Index = i%len(flowSizeType)\n",
    "    # 规模在20%左右浮动\n",
    "    flowSize = int(flowSizeType[flowSizeType_Index])\n",
    "    StartTime = []\n",
    "    PktSize = []\n",
    "    totalsize = 0\n",
    "    avgPktsize = flowSize/pktNum\n",
    "    while avgPktsize < 1:\n",
    "        pktNum = int(pktNum/2)\n",
    "        avgPktsize = flowSize/pktNum\n",
    "    for pkt_i in range(0, pktNum-1):\n",
    "        tmp_StartTime = random.uniform(0.01, timeCost)\n",
    "        # 令平均数为flowSizeType\n",
    "        tmp_PktSize = random.randint(1, int(2*avgPktsize))     \n",
    "        StartTime.append(tmp_StartTime)\n",
    "        PktSize.append(tmp_PktSize)       \n",
    "        totalsize += tmp_PktSize\n",
    "    tmp_StartTime = 0    \n",
    "    tmp_PktSize = random.randint(1, max(0, int(2*avgPktsize)))\n",
    "    StartTime.append(tmp_StartTime)\n",
    "    PktSize.append(tmp_PktSize)\n",
    "    totalsize += tmp_PktSize\n",
    "    \n",
    "    StartTime.sort()\n",
    "    \n",
    "    f = open(\"CPinfo_\"+str(i)+\".txt\", \"w\", encoding=\"utf-8\")\n",
    "    f.write(str(totalsize)+'\\n')\n",
    "    for pkt_i in range(0, pktNum):\n",
    "        f.write(str(round(StartTime[pkt_i], 9))+' '+str(PktSize[pkt_i])+'\\n')\n",
    "    f.close()"
   ]
  },
  {
   "cell_type": "code",
   "execution_count": 4,
   "id": "db938e80",
   "metadata": {},
   "outputs": [],
   "source": [
    "# 生成对应流的flow.txt\n",
    "flowf = open(\"flow.txt\", \"w\", encoding=\"utf-8\")\n",
    "flowf.write(\"0\\n\")\n",
    "\n",
    "# 0: src; others: des\n",
    "for i in range(0, flowNum):\n",
    "    f = open(\"CPinfo_\"+str(i)+\".txt\", \"r\", encoding=\"utf-8\")\n",
    "    line = f.readline().split('\\n')\n",
    "    # 还没试验过换端口和优先级，可以后续试试\n",
    "    flowf.write(str(i%(topoNode-1-switchNode)+1)+\" 4 3 100 \"+line[0]+\" 2\\n\")\n",
    "    f.close()\n",
    "flowf.close()"
   ]
  },
  {
   "cell_type": "code",
   "execution_count": 7,
   "id": "97b69d55",
   "metadata": {},
   "outputs": [],
   "source": [
    "#tmpTest\n",
    "# 生成对应流的flow.txt\n",
    "flowf = open(\"flow.txt\", \"w\", encoding=\"utf-8\")\n",
    "flowf.write(\"100\\n\")\n",
    "\n",
    "small_flow_num = 45\n",
    "mid_flow_num = 10\n",
    "big_flow_num = 45\n",
    "flow_num = small_flow_num+mid_flow_num+big_flow_num\n",
    "\n",
    "# 0: src; others: des\n",
    "for i in range(0, flowNum):\n",
    "#     if (i<20):\n",
    "#         f = open(\"../CPinfo_\"+str(i)+\".txt\", \"r\", encoding=\"utf-8\")\n",
    "#     elif (i<40):\n",
    "#         f = open(\"../big-small-txt3/64KB_\"+str(i-20)+\".txt\", \"r\", encoding=\"utf-8\")\n",
    "#     else:\n",
    "#         f = open(\"../big-small-txt3/1MB_\"+str(i-40)+\".txt\", \"r\", encoding=\"utf-8\")\n",
    "    if (i<small_flow_num):    \n",
    "        f = open(\"../mix_flows_txt/High_\"+str(i)+\".txt\", \"r\", encoding=\"utf-8\")\n",
    "    elif (i<small_flow_num+mid_flow_num):\n",
    "        f = open(\"../mix_flows_txt/Middle_\"+str(i)+\".txt\", \"r\", encoding=\"utf-8\")\n",
    "    else:\n",
    "        f = open(\"../mix_flows_txt/Low_\"+str(i))+\".txt\", \"r\", encoding=\"utf-8\")\n",
    "    line = f.readline().split('\\n')\n",
    "    # 还没试验过换端口和优先级，可以后续试试\n",
    "    flowf.write(str(i%(topoNode-1-switchNode)+1)+\" 4 3 100 \"+line[0]+\" 2\\n\")\n",
    "    f.close()\n",
    "flowf.close()"
   ]
  },
  {
   "cell_type": "code",
   "execution_count": null,
   "id": "cefc11a4",
   "metadata": {},
   "outputs": [],
   "source": []
  }
 ],
 "metadata": {
  "kernelspec": {
   "display_name": "Python 3 (ipykernel)",
   "language": "python",
   "name": "python3"
  },
  "language_info": {
   "codemirror_mode": {
    "name": "ipython",
    "version": 3
   },
   "file_extension": ".py",
   "mimetype": "text/x-python",
   "name": "python",
   "nbconvert_exporter": "python",
   "pygments_lexer": "ipython3",
   "version": "3.11.4"
  }
 },
 "nbformat": 4,
 "nbformat_minor": 5
}
