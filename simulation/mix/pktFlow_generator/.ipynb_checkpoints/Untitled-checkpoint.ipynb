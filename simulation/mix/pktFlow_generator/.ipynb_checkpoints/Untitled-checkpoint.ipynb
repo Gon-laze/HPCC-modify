{
 "cells": [
  {
   "cell_type": "code",
   "execution_count": 1,
   "id": "437e8a97",
   "metadata": {},
   "outputs": [],
   "source": [
    "import random"
   ]
  },
  {
   "cell_type": "code",
   "execution_count": 3,
   "id": "7fefaf44",
   "metadata": {},
   "outputs": [],
   "source": [
    "flowNum = 1\n",
    "flowSizeType = [8*1024, 64*1024, 1024*1024]"
   ]
  },
  {
   "cell_type": "code",
   "execution_count": 7,
   "id": "1a194f90",
   "metadata": {},
   "outputs": [
    {
     "ename": "TypeError",
     "evalue": "'int' object is not iterable",
     "output_type": "error",
     "traceback": [
      "\u001b[1;31m---------------------------------------------------------------------------\u001b[0m",
      "\u001b[1;31mTypeError\u001b[0m                                 Traceback (most recent call last)",
      "\u001b[1;32m~\\AppData\\Local\\Temp\\ipykernel_36508\\3865032600.py\u001b[0m in \u001b[0;36m<module>\u001b[1;34m\u001b[0m\n\u001b[0;32m     23\u001b[0m \u001b[1;33m\u001b[0m\u001b[0m\n\u001b[0;32m     24\u001b[0m     \u001b[0mf\u001b[0m \u001b[1;33m=\u001b[0m \u001b[0mopen\u001b[0m\u001b[1;33m(\u001b[0m\u001b[1;34m\"CPinfo_\"\u001b[0m\u001b[1;33m+\u001b[0m\u001b[0mstr\u001b[0m\u001b[1;33m(\u001b[0m\u001b[0mi\u001b[0m\u001b[1;33m)\u001b[0m\u001b[1;33m+\u001b[0m\u001b[1;34m\".txt\"\u001b[0m\u001b[1;33m,\u001b[0m \u001b[1;34m\"w\"\u001b[0m\u001b[1;33m,\u001b[0m \u001b[0mencoding\u001b[0m\u001b[1;33m=\u001b[0m\u001b[1;34m\"utf-8\"\u001b[0m\u001b[1;33m)\u001b[0m\u001b[1;33m\u001b[0m\u001b[1;33m\u001b[0m\u001b[0m\n\u001b[1;32m---> 25\u001b[1;33m     \u001b[0mf\u001b[0m\u001b[1;33m.\u001b[0m\u001b[0mwritelines\u001b[0m\u001b[1;33m(\u001b[0m\u001b[0mtotalsize\u001b[0m\u001b[1;33m)\u001b[0m\u001b[1;33m\u001b[0m\u001b[1;33m\u001b[0m\u001b[0m\n\u001b[0m\u001b[0;32m     26\u001b[0m     \u001b[1;32mfor\u001b[0m \u001b[0mpkt_i\u001b[0m \u001b[1;32min\u001b[0m \u001b[0mrange\u001b[0m\u001b[1;33m(\u001b[0m\u001b[1;36m0\u001b[0m\u001b[1;33m,\u001b[0m \u001b[0mPktNum\u001b[0m\u001b[1;33m)\u001b[0m\u001b[1;33m:\u001b[0m\u001b[1;33m\u001b[0m\u001b[1;33m\u001b[0m\u001b[0m\n\u001b[0;32m     27\u001b[0m         \u001b[0mf\u001b[0m\u001b[1;33m.\u001b[0m\u001b[0mwritelines\u001b[0m\u001b[1;33m(\u001b[0m\u001b[1;33m[\u001b[0m\u001b[0mStartTime\u001b[0m\u001b[1;33m[\u001b[0m\u001b[0mpkt_i\u001b[0m\u001b[1;33m]\u001b[0m\u001b[1;33m,\u001b[0m \u001b[0mPktSize\u001b[0m\u001b[1;33m[\u001b[0m\u001b[0mpkt_i\u001b[0m\u001b[1;33m]\u001b[0m\u001b[1;33m]\u001b[0m\u001b[1;33m)\u001b[0m\u001b[1;33m\u001b[0m\u001b[1;33m\u001b[0m\u001b[0m\n",
      "\u001b[1;31mTypeError\u001b[0m: 'int' object is not iterable"
     ]
    }
   ],
   "source": [
    "for i in range(0, flowNum):\n",
    "    pktNum = random.randint(200, 50000)\n",
    "    timeCost = random.randint(10, 900)\n",
    "    flowSizeType_Index = random.choice([0, 1, 2])\n",
    "    StartTime = []\n",
    "    PktSize = []\n",
    "    totalsize = 0\n",
    "    avgPktsize = (timeCost/60.0)*flowSizeType[flowSizeType_Index]/pktNum\n",
    "    for pkt_i in range(0, pktNum-1):\n",
    "        tmp_StartTime = random.uniform(0.01, timeCost)\n",
    "        # 令平均数为flowSizeType\n",
    "        tmp_PktSize = random.randint(1, int(2*avgPktsize))     \n",
    "        StartTime.append(tmp_StartTime)\n",
    "        PktSize.append(tmp_PktSize)       \n",
    "        totalsize += tmp_PktSize\n",
    "    tmp_StartTime = 0    \n",
    "    tmp_PktSize = random.randint(1, int(2*avgPktsize))\n",
    "    StartTime.append(tmp_StartTime)\n",
    "    PktSize.append(tmp_PktSize)\n",
    "    totalsize += tmp_PktSize\n",
    "    \n",
    "    StartTime.sort()\n",
    "    \n",
    "    f = open(\"CPinfo_\"+str(i)+\".txt\", \"w\", encoding=\"utf-8\")\n",
    "    f.writelines(str(totalsize))\n",
    "    for pkt_i in range(0, PktNum):\n",
    "        f.writelines([StartTime[pkt_i], PktSize[pkt_i]])\n",
    "    f.close()"
   ]
  },
  {
   "cell_type": "code",
   "execution_count": null,
   "id": "872ac235",
   "metadata": {},
   "outputs": [],
   "source": []
  }
 ],
 "metadata": {
  "kernelspec": {
   "display_name": "Python 3 (ipykernel)",
   "language": "python",
   "name": "python3"
  },
  "language_info": {
   "codemirror_mode": {
    "name": "ipython",
    "version": 3
   },
   "file_extension": ".py",
   "mimetype": "text/x-python",
   "name": "python",
   "nbconvert_exporter": "python",
   "pygments_lexer": "ipython3",
   "version": "3.7.4"
  }
 },
 "nbformat": 4,
 "nbformat_minor": 5
}
