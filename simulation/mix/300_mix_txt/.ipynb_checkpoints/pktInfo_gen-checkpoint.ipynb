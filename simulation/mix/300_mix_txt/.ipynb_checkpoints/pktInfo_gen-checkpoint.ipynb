{
 "cells": [
  {
   "cell_type": "code",
   "execution_count": 1,
   "id": "2cb9f3ec",
   "metadata": {},
   "outputs": [],
   "source": [
    "import random\n",
    "import string"
   ]
  },
  {
   "cell_type": "code",
   "execution_count": 3,
   "id": "97b69d55",
   "metadata": {},
   "outputs": [
    {
     "ename": "NameError",
     "evalue": "name 'topoNode' is not defined",
     "output_type": "error",
     "traceback": [
      "\u001b[0;31m---------------------------------------------------------------------------\u001b[0m",
      "\u001b[0;31mNameError\u001b[0m                                 Traceback (most recent call last)",
      "Cell \u001b[0;32mIn[3], line 32\u001b[0m\n\u001b[1;32m     30\u001b[0m     line \u001b[38;5;241m=\u001b[39m f\u001b[38;5;241m.\u001b[39mreadline()\u001b[38;5;241m.\u001b[39msplit(\u001b[38;5;124m'\u001b[39m\u001b[38;5;130;01m\\n\u001b[39;00m\u001b[38;5;124m'\u001b[39m)\n\u001b[1;32m     31\u001b[0m     \u001b[38;5;66;03m# 还没试验过换端口和优先级，可以后续试试\u001b[39;00m\n\u001b[0;32m---> 32\u001b[0m     flowf\u001b[38;5;241m.\u001b[39mwrite(\u001b[38;5;28mstr\u001b[39m(i\u001b[38;5;241m%\u001b[39m(topoNode\u001b[38;5;241m-\u001b[39m\u001b[38;5;241m1\u001b[39m\u001b[38;5;241m-\u001b[39mswitchNode)\u001b[38;5;241m+\u001b[39m\u001b[38;5;241m1\u001b[39m)\u001b[38;5;241m+\u001b[39m\u001b[38;5;124m\"\u001b[39m\u001b[38;5;124m 4 3 100 \u001b[39m\u001b[38;5;124m\"\u001b[39m\u001b[38;5;241m+\u001b[39mline[\u001b[38;5;241m0\u001b[39m]\u001b[38;5;241m+\u001b[39m\u001b[38;5;124m\"\u001b[39m\u001b[38;5;124m 2\u001b[39m\u001b[38;5;130;01m\\n\u001b[39;00m\u001b[38;5;124m\"\u001b[39m)\n\u001b[1;32m     33\u001b[0m     f\u001b[38;5;241m.\u001b[39mclose()\n\u001b[1;32m     34\u001b[0m flowf\u001b[38;5;241m.\u001b[39mclose()\n",
      "\u001b[0;31mNameError\u001b[0m: name 'topoNode' is not defined"
     ]
    }
   ],
   "source": [
    "#tmpTest\n",
    "# 生成对应流的flow.txt\n",
    "flowf = open(\"flow.txt\", \"w\", encoding=\"utf-8\")\n",
    "\n",
    "\n",
    "small_flow_num = 135\n",
    "mid_flow_num = 30\n",
    "big_flow_num = 135\n",
    "\n",
    "topoNode = 5\n",
    "switchNode = 1\n",
    "\n",
    "flowNum = small_flow_num+mid_flow_num+big_flow_num\n",
    "\n",
    "flowf.write(str(flowNum)+\"\\n\")\n",
    "\n",
    "\n",
    "\n",
    "# 0: src; others: des\n",
    "for i in range(0, flowNum):\n",
    "#     if (i<20):\n",
    "#         f = open(\"../CPinfo_\"+str(i)+\".txt\", \"r\", encoding=\"utf-8\")\n",
    "#     elif (i<40):\n",
    "#         f = open(\"../big-small-txt3/64KB_\"+str(i-20)+\".txt\", \"r\", encoding=\"utf-8\")\n",
    "#     else:\n",
    "#         f = open(\"../big-small-txt3/1MB_\"+str(i-40)+\".txt\", \"r\", encoding=\"utf-8\")\n",
    "    if (i<small_flow_num):    \n",
    "        f = open(\"high/high_\"+str(i)+\".txt\", \"r\", encoding=\"utf-8\")\n",
    "    elif (i<(small_flow_num+mid_flow_num)):\n",
    "        f = open(\"middle/middle_\"+str(i-small_flow_num)+\".txt\", \"r\", encoding=\"utf-8\")\n",
    "    else:\n",
    "        f = open(\"low/low_\"+str(i-(small_flow_num+mid_flow_num))+\".txt\", \"r\", encoding=\"utf-8\")\n",
    "    line = f.readline().split('\\n')\n",
    "    # 还没试验过换端口和优先级，可以后续试试\n",
    "    flowf.write(str(i%(topoNode-1-switchNode)+1)+\" 4 3 100 \"+line[0]+\" 2\\n\")\n",
    "    f.close()\n",
    "flowf.close()"
   ]
  },
  {
   "cell_type": "code",
   "execution_count": null,
   "id": "cefc11a4",
   "metadata": {},
   "outputs": [],
   "source": []
  }
 ],
 "metadata": {
  "kernelspec": {
   "display_name": "Python 3 (ipykernel)",
   "language": "python",
   "name": "python3"
  },
  "language_info": {
   "codemirror_mode": {
    "name": "ipython",
    "version": 3
   },
   "file_extension": ".py",
   "mimetype": "text/x-python",
   "name": "python",
   "nbconvert_exporter": "python",
   "pygments_lexer": "ipython3",
   "version": "3.11.4"
  }
 },
 "nbformat": 4,
 "nbformat_minor": 5
}
