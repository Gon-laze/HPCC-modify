{
 "cells": [
  {
   "cell_type": "code",
   "execution_count": 1,
   "id": "08688536",
   "metadata": {},
   "outputs": [],
   "source": [
    "import os"
   ]
  },
  {
   "cell_type": "code",
   "execution_count": 2,
   "id": "e691984e",
   "metadata": {},
   "outputs": [
    {
     "data": {
      "text/plain": [
       "['small_3.txt',\n",
       " 'small_14.txt',\n",
       " 'small_7.txt',\n",
       " 'small_6.txt',\n",
       " 'small_19.txt',\n",
       " 'small_2.txt',\n",
       " 'small_13.txt',\n",
       " 'small_18.txt',\n",
       " 'small_11.txt',\n",
       " 'small_0.txt',\n",
       " 'small_1.txt',\n",
       " 'small_16.txt',\n",
       " 'small_12.txt',\n",
       " 'small_4.txt',\n",
       " 'small_10.txt',\n",
       " 'small_5.txt',\n",
       " 'small_15.txt',\n",
       " 'small_9.txt',\n",
       " 'small_17.txt',\n",
       " 'small_8.txt']"
      ]
     },
     "execution_count": 2,
     "metadata": {},
     "output_type": "execute_result"
    }
   ],
   "source": [
    "flist = os.listdir(\"small\")\n",
    "flist"
   ]
  },
  {
   "cell_type": "code",
   "execution_count": 4,
   "id": "d9cf3871",
   "metadata": {},
   "outputs": [],
   "source": [
    "for f in flist:\n",
    "    src = open(\"small/\"+f, \"r\", encoding=\"utf-8\")\n",
    "    dst = open(\"small_new/\"+f, \"w\", encoding=\"utf-8\")\n",
    "    lines = src.readlines();\n",
    "    count = int(0);\n",
    "    for line in lines:\n",
    "        count = count + int(line.split(\" \")[1])\n",
    "    dst.write(str(count)+\"\\n\")\n",
    "    dst.writelines(lines)\n",
    "    src.close()\n",
    "    dst.close()"
   ]
  },
  {
   "cell_type": "code",
   "execution_count": null,
   "id": "3c48d8f0",
   "metadata": {},
   "outputs": [],
   "source": []
  },
  {
   "cell_type": "code",
   "execution_count": null,
   "id": "1b04f0a0",
   "metadata": {},
   "outputs": [],
   "source": []
  }
 ],
 "metadata": {
  "kernelspec": {
   "display_name": "Python 3 (ipykernel)",
   "language": "python",
   "name": "python3"
  },
  "language_info": {
   "codemirror_mode": {
    "name": "ipython",
    "version": 3
   },
   "file_extension": ".py",
   "mimetype": "text/x-python",
   "name": "python",
   "nbconvert_exporter": "python",
   "pygments_lexer": "ipython3",
   "version": "3.11.4"
  }
 },
 "nbformat": 4,
 "nbformat_minor": 5
}
